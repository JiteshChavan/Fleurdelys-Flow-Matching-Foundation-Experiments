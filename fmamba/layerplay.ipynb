{
 "cells": [
  {
   "cell_type": "code",
   "execution_count": 7,
   "id": "798ea072",
   "metadata": {},
   "outputs": [],
   "source": [
    "import torch\n",
    "import torch.nn as nn\n",
    "\n",
    "class FinalLayer (nn.Module):\n",
    "    \"\"\"\n",
    "    Final layer of the backbone\n",
    "    \"\"\"\n",
    "    def __init__(self, hidden_size, patch_size, out_channels):\n",
    "        super().__init__()\n",
    "        self.norm_final = nn.LayerNorm(hidden_size, elementwise_affine=False, eps=1e-6)\n",
    "        self.linear = nn.Linear(hidden_size, patch_size * patch_size * out_channels, bias=True)\n",
    "        self.adaLN_modulation = nn.Sequential(nn.SiLU(), nn.Linear(hidden_size, 2 * hidden_size, bias=True))\n",
    "    \n",
    "    def forward(self, x, y):\n",
    "        scale, shift = self.adaLN_modulation(y).chunk(2, dim=-1) # 2x (B, C)\n",
    "        x = modulate(self.norm_final(x), shift, scale) # x = x * (1 + scale.unsqueeze(1)) + shift.unsqueeze(1) -> (B, T, C)\n",
    "        x = self.linear(x) # (B, T, C) - > (B, T, patch_size * patch_size * out_channels)\n",
    "        return x\n",
    "\n",
    "def modulate(x, shift, scale):\n",
    "    return x * (1 + scale.unsqueeze(1)) + shift.unsqueeze(1)"
   ]
  },
  {
   "cell_type": "code",
   "execution_count": 8,
   "id": "9724c969",
   "metadata": {},
   "outputs": [],
   "source": [
    "layer = FinalLayer(7, 2, 4)"
   ]
  },
  {
   "cell_type": "code",
   "execution_count": 10,
   "id": "9b179bce",
   "metadata": {},
   "outputs": [
    {
     "data": {
      "text/plain": [
       "torch.Size([1, 3, 16])"
      ]
     },
     "execution_count": 10,
     "metadata": {},
     "output_type": "execute_result"
    }
   ],
   "source": [
    "layer(torch.randn(1, 3, 7), torch.randn(1, 7)).shape"
   ]
  },
  {
   "cell_type": "code",
   "execution_count": null,
   "id": "2040df0f",
   "metadata": {},
   "outputs": [],
   "source": []
  }
 ],
 "metadata": {
  "kernelspec": {
   "display_name": "mamba",
   "language": "python",
   "name": "python3"
  },
  "language_info": {
   "codemirror_mode": {
    "name": "ipython",
    "version": 3
   },
   "file_extension": ".py",
   "mimetype": "text/x-python",
   "name": "python",
   "nbconvert_exporter": "python",
   "pygments_lexer": "ipython3",
   "version": "3.10.13"
  }
 },
 "nbformat": 4,
 "nbformat_minor": 5
}
